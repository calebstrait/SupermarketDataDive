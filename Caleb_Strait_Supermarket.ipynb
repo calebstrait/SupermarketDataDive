{
 "cells": [
  {
   "cell_type": "markdown",
   "metadata": {},
   "source": [
    "## Supermarket Data Dive\n",
    "My task was open-ended: to pull actionable insights from a large dataset containing geographical information about points of sale for supermarket products, for thousands of customers and thousands of products. Store distances were a calculated in meters as a straight line. Purchases were recorded from January 2007 to December 2011."
   ]
  },
  {
   "cell_type": "markdown",
   "metadata": {},
   "source": [
    "### Importing and Cleaning"
   ]
  },
  {
   "cell_type": "markdown",
   "metadata": {},
   "source": [
    "I started by importing the necessary python modules:"
   ]
  },
  {
   "cell_type": "code",
   "execution_count": 116,
   "metadata": {
    "collapsed": true
   },
   "outputs": [],
   "source": [
    "import numpy as np\n",
    "import pandas as pd\n",
    "import matplotlib.pyplot as plt\n",
    "from sklearn.linear_model import LinearRegression\n",
    "from sklearn.feature_selection import f_regression\n",
    "import statsmodels.stats.api as sms\n",
    "from scipy.stats import linregress"
   ]
  },
  {
   "cell_type": "markdown",
   "metadata": {},
   "source": [
    "I received the data as a .csv ('supermarket_data_aggr.csv'). I imported the dataset and loaded it into a pandas DataFrame:"
   ]
  },
  {
   "cell_type": "code",
   "execution_count": 117,
   "metadata": {
    "collapsed": false
   },
   "outputs": [],
   "source": [
    "df = pd.read_csv('supermarket_data_aggr.csv')"
   ]
  },
  {
   "cell_type": "markdown",
   "metadata": {},
   "source": [
    "I began by removing rows with missing values (only 1 row), and looking at some descriptive statistics of each column."
   ]
  },
  {
   "cell_type": "code",
   "execution_count": 118,
   "metadata": {
    "collapsed": false
   },
   "outputs": [
    {
     "name": "stdout",
     "output_type": "stream",
     "text": [
      "Before cleaning: 60366 rows of data\n",
      "After cleaning:  60365 rows of data\n"
     ]
    },
    {
     "data": {
      "text/html": [
       "<div>\n",
       "<table border=\"1\" class=\"dataframe\">\n",
       "  <thead>\n",
       "    <tr style=\"text-align: right;\">\n",
       "      <th></th>\n",
       "      <th>min_distance_to_shops</th>\n",
       "      <th>max_distance_to_shops</th>\n",
       "      <th>shops_used</th>\n",
       "      <th>avg_purchase</th>\n",
       "      <th>amount_purchased</th>\n",
       "    </tr>\n",
       "  </thead>\n",
       "  <tbody>\n",
       "    <tr>\n",
       "      <th>count</th>\n",
       "      <td>60365.000000</td>\n",
       "      <td>60365.000000</td>\n",
       "      <td>60365.000000</td>\n",
       "      <td>60365.000000</td>\n",
       "      <td>60365.000000</td>\n",
       "    </tr>\n",
       "    <tr>\n",
       "      <th>mean</th>\n",
       "      <td>1396.438077</td>\n",
       "      <td>2942.667579</td>\n",
       "      <td>2.380055</td>\n",
       "      <td>8.532106</td>\n",
       "      <td>4235.493251</td>\n",
       "    </tr>\n",
       "    <tr>\n",
       "      <th>std</th>\n",
       "      <td>1048.415728</td>\n",
       "      <td>1327.528871</td>\n",
       "      <td>1.012191</td>\n",
       "      <td>10.315527</td>\n",
       "      <td>5006.777082</td>\n",
       "    </tr>\n",
       "    <tr>\n",
       "      <th>min</th>\n",
       "      <td>6.642472</td>\n",
       "      <td>6.642472</td>\n",
       "      <td>1.000000</td>\n",
       "      <td>0.212000</td>\n",
       "      <td>0.212000</td>\n",
       "    </tr>\n",
       "    <tr>\n",
       "      <th>25%</th>\n",
       "      <td>573.610700</td>\n",
       "      <td>2117.183000</td>\n",
       "      <td>2.000000</td>\n",
       "      <td>4.532897</td>\n",
       "      <td>653.107000</td>\n",
       "    </tr>\n",
       "    <tr>\n",
       "      <th>50%</th>\n",
       "      <td>1184.943000</td>\n",
       "      <td>2869.195300</td>\n",
       "      <td>2.000000</td>\n",
       "      <td>6.862780</td>\n",
       "      <td>2355.138000</td>\n",
       "    </tr>\n",
       "    <tr>\n",
       "      <th>75%</th>\n",
       "      <td>1962.384500</td>\n",
       "      <td>3580.669700</td>\n",
       "      <td>3.000000</td>\n",
       "      <td>10.429567</td>\n",
       "      <td>6054.631000</td>\n",
       "    </tr>\n",
       "    <tr>\n",
       "      <th>max</th>\n",
       "      <td>9004.164000</td>\n",
       "      <td>9267.698000</td>\n",
       "      <td>5.000000</td>\n",
       "      <td>787.569000</td>\n",
       "      <td>51588.656000</td>\n",
       "    </tr>\n",
       "  </tbody>\n",
       "</table>\n",
       "</div>"
      ],
      "text/plain": [
       "       min_distance_to_shops  max_distance_to_shops    shops_used  \\\n",
       "count           60365.000000           60365.000000  60365.000000   \n",
       "mean             1396.438077            2942.667579      2.380055   \n",
       "std              1048.415728            1327.528871      1.012191   \n",
       "min                 6.642472               6.642472      1.000000   \n",
       "25%               573.610700            2117.183000      2.000000   \n",
       "50%              1184.943000            2869.195300      2.000000   \n",
       "75%              1962.384500            3580.669700      3.000000   \n",
       "max              9004.164000            9267.698000      5.000000   \n",
       "\n",
       "       avg_purchase  amount_purchased  \n",
       "count  60365.000000      60365.000000  \n",
       "mean       8.532106       4235.493251  \n",
       "std       10.315527       5006.777082  \n",
       "min        0.212000          0.212000  \n",
       "25%        4.532897        653.107000  \n",
       "50%        6.862780       2355.138000  \n",
       "75%       10.429567       6054.631000  \n",
       "max      787.569000      51588.656000  "
      ]
     },
     "execution_count": 118,
     "metadata": {},
     "output_type": "execute_result"
    }
   ],
   "source": [
    "print('Before cleaning: ' + str(len(df.index)) + ' rows of data')\n",
    "df_clean = df.dropna()\n",
    "print('After cleaning:  ' + str(len(df_clean.index)) + ' rows of data')\n",
    "df_clean[['min_distance_to_shops','max_distance_to_shops','shops_used','avg_purchase','amount_purchased']].describe()"
   ]
  },
  {
   "cell_type": "markdown",
   "metadata": {
    "collapsed": true
   },
   "source": [
    "### Dataset Exploration\n",
    "As the dataset contained data from each of five stores, I designed my data exploration to allow for comparison of the performance of each of these stores to each other in terms of 1) total sales 2) average distance to customer."
   ]
  },
  {
   "cell_type": "code",
   "execution_count": 119,
   "metadata": {
    "collapsed": false,
    "scrolled": true
   },
   "outputs": [],
   "source": [
    "# Prepare to create bar plots\n",
    "labels = ['Store #1', 'Store #2', 'Store #3', 'Store #4', 'Store #5']\n",
    "xaxis = range(0,len(labels))\n",
    "%matplotlib inline\n",
    "plt.style.use('ggplot')"
   ]
  },
  {
   "cell_type": "code",
   "execution_count": 120,
   "metadata": {
    "collapsed": false
   },
   "outputs": [
    {
     "data": {
      "image/png": "[encoded data removed]",
      "text/plain": [
       "<matplotlib.figure.Figure at 0x11dd216d8>"
      ]
     },
     "metadata": {},
     "output_type": "display_data"
    }
   ],
   "source": [
    "# Plot total sales\n",
    "yaxis = [0] * 5\n",
    "ystde = [0] * 5\n",
    "for i in range(5):\n",
    "    var_name = 'amount_purchased_shop_' + str(i+1)\n",
    "    yaxis[i] = np.mean(df_clean[var_name])\n",
    "    ystde[i] = sms.DescrStatsW(df_clean[var_name]).tconfint_mean()[1]-np.mean(df_clean[var_name])\n",
    "_ = plt.bar((xaxis), yaxis, yerr=ystde)\n",
    "_, lbls = plt.xticks([x+.4 for x in xaxis], labels)\n",
    "_ = plt.setp(lbls, rotation=90)\n",
    "_ = plt.title('Average Sales/Person Across 5 Stores')\n",
    "_ = plt.ylabel('Euros')"
   ]
  },
  {
   "cell_type": "markdown",
   "metadata": {},
   "source": [
    "Stores #1 and #2 make of a large majority of the supermarket chain's sales, but this should be interpreted in the context of logically contributing factors, such as each store's distance from the average customer:"
   ]
  },
  {
   "cell_type": "code",
   "execution_count": 121,
   "metadata": {
    "collapsed": false
   },
   "outputs": [
    {
     "data": {
      "image/png": "[encoded data removed]",
      "text/plain": [
       "<matplotlib.figure.Figure at 0x11f9f72b0>"
      ]
     },
     "metadata": {},
     "output_type": "display_data"
    }
   ],
   "source": [
    "# Plot average distance to customer\n",
    "yaxis = [0] * 5\n",
    "ystde = [0] * 5\n",
    "for i in range(5):\n",
    "    var_name = 'distance_shop_' + str(i+1)\n",
    "    yaxis[i] = np.mean(df_clean[var_name])\n",
    "    ystde[i] = sms.DescrStatsW(df_clean[var_name]).tconfint_mean()[1]-np.mean(df_clean[var_name])\n",
    "_ = plt.bar((xaxis), yaxis, yerr=ystde)\n",
    "_, lbls = plt.xticks([x+.4 for x in xaxis], labels)\n",
    "_ = plt.setp(lbls, rotation=90)\n",
    "_ = plt.title('Average Distance to Customer')\n",
    "_ = plt.ylabel('Meters')"
   ]
  },
  {
   "cell_type": "markdown",
   "metadata": {},
   "source": [
    "While there does seem to be quite a bit of variability between these stores in their distance from customers on average, there does not seem to be a trend that matches the clear ordering of the stores in terms of average sales. I ran a correlation between average sales and average distance to be sure (indeed: no significant relationship; p > 0.05):"
   ]
  },
  {
   "cell_type": "code",
   "execution_count": 122,
   "metadata": {
    "collapsed": false
   },
   "outputs": [
    {
     "name": "stdout",
     "output_type": "stream",
     "text": [
      "CORRELATION(SALES, DISTANCE):\n",
      "COEF = 0.23669  PVAL = 0.701\n"
     ]
    }
   ],
   "source": [
    "paid = [0] * 5\n",
    "dist = [0] * 5\n",
    "for i in range(5):\n",
    "    var_name_P = 'amount_purchased_shop_' + str(i+1)\n",
    "    paid[i] = np.mean(df_clean[var_name_P])\n",
    "    var_name_D = 'distance_shop_' + str(i+1)\n",
    "    dist[i] = np.mean(df_clean[var_name_D])\n",
    "correlation_result = linregress(paid, dist)\n",
    "print('CORRELATION(SALES, DISTANCE):')\n",
    "print('COEF = {:.5f}  PVAL = {:.3f}'.format(correlation_result.rvalue, correlation_result.pvalue))"
   ]
  },
  {
   "cell_type": "markdown",
   "metadata": {
    "collapsed": true
   },
   "source": [
    "### Modeling Customer Spending\n",
    "Since a supermarket's goal is to maximize the amount that each customer spends (i.e. amount_purchased), I next fit a linear regression to look at the relationship between the amount that each customer spends and some potentially influencing factors: 1) their distance to closest store (min_distance_to_shops) 2) the number of stores they used (shops_used)."
   ]
  },
  {
   "cell_type": "code",
   "execution_count": 123,
   "metadata": {
    "collapsed": false
   },
   "outputs": [],
   "source": [
    "X = df_clean.as_matrix(columns = ['min_distance_to_shops','shops_used'])\n",
    "Y_prenorm = df_clean['amount_purchased']\n",
    "Y = Y_prenorm / Y_prenorm.max(axis=0)\n",
    "\n",
    "linear_reg = LinearRegression(normalize=True)\n",
    "linear_reg = linear_reg.fit(X, Y)\n",
    "_, pvals = f_regression(X, Y)"
   ]
  },
  {
   "cell_type": "markdown",
   "metadata": {},
   "source": [
    "Below are some summary statistics of this regression fit. A customer's minimum distance to a store has a negligible (although technically significant) inverse relationship with total spending. In addition, customers that shop at a greater variety of the supermarket's locations do seem to spend significantly more per year."
   ]
  },
  {
   "cell_type": "code",
   "execution_count": 124,
   "metadata": {
    "collapsed": false
   },
   "outputs": [
    {
     "name": "stdout",
     "output_type": "stream",
     "text": [
      "LINEAR REGRESSION PREDICTORS:\n",
      "min_distance_to_shops  COEF = -0.00001  PVAL = 0.000\n",
      "shops_used             COEF =  0.02334  PVAL = 0.000\n"
     ]
    }
   ],
   "source": [
    "print('LINEAR REGRESSION PREDICTORS:')\n",
    "print('min_distance_to_shops  COEF = {: .5f}  PVAL = {:.3f}'.format(linear_reg.coef_[0], pvals[0]))\n",
    "print('shops_used             COEF = {: .5f}  PVAL = {:.3f}'.format(linear_reg.coef_[1], pvals[1]))"
   ]
  },
  {
   "cell_type": "markdown",
   "metadata": {},
   "source": [
    "### Conclusions\n",
    "Despite being collected over the course of 4 years, the dataset did not label purchases from different time periods, eliminating analysis of purchase patterns across time as a possibility. That being said, the dataset distinguished between data taken from 5 different stores, allowing for between-store comparisons. Analyzing overall sales patterns, I showed that Store #1 (and to a lesser extent Store #2) is more profittable than the other stores, an effect that does not seem to be a function of proximity to customers. If the store numbering corresponds to store opening dates, I would venture a guess that the primary driver of this effect is store legacy, i.e. people have had more time to incorporate older stores into their routines.\n",
    "\n",
    "To dig a bit deeper into store success, I modeled sales per customer as a function of their minimum distance to a store, and the number of stores they made purchases at. Contrary to my expectation, minimum distance to a store did not strongly predict overall purchase amount. On the other hand, more stores visited did indeed increase overall purchase amount.\n",
    "\n",
    "These findings could be useful when determining where to place new stores. Evidently, trying to decrease each customer's minimum distance to a store is not worthwhile. Instead, maximizing the number of stores within a customer's general area seems like it would better support increased overall sales. "
   ]
  }
 ],
 "metadata": {
  "anaconda-cloud": {},
  "kernelspec": {
   "display_name": "Python [default]",
   "language": "python",
   "name": "python3"
  },
  "language_info": {
   "codemirror_mode": {
    "name": "ipython",
    "version": 3
   },
   "file_extension": ".py",
   "mimetype": "text/x-python",
   "name": "python",
   "nbconvert_exporter": "python",
   "pygments_lexer": "ipython3",
   "version": "3.5.2"
  }
 },
 "nbformat": 4,
 "nbformat_minor": 1
}
